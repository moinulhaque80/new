{
 "cells": [
  {
   "cell_type": "markdown",
   "id": "e9d1670b-e94b-426a-b2ec-153d90f87ca6",
   "metadata": {},
   "source": [
    "# Data Science Tools and Ecosystem"
   ]
  },
  {
   "cell_type": "markdown",
   "id": "d55cf16f-7bf7-4f28-af41-12d837a85195",
   "metadata": {
    "tags": []
   },
   "source": [
    "In this notebook, Data Science Tools and Ecosystem are summarized."
   ]
  },
  {
   "cell_type": "markdown",
   "id": "a536c7b3-487a-4977-9dd0-41d78b5eb162",
   "metadata": {},
   "source": [
    "Some of the popular languages that Data Scientists use are:\n",
    "\n",
    "1. R\n",
    "2. Python\n",
    "3. SQL"
   ]
  },
  {
   "cell_type": "markdown",
   "id": "f7f9fee7-34d5-4c80-9b6c-2530606e0889",
   "metadata": {},
   "source": [
    "Some of the commonly used libraries used by Data Scientists include:\n",
    "\n",
    "1. NumPy \n",
    "2. SciPy \n",
    "3. Sci-Kit Learn\n",
    "4. Matplotlib\n",
    "5. ggvis"
   ]
  },
  {
   "cell_type": "markdown",
   "id": "16778bf8-6eb1-4bb1-8a60-40b7c5c89998",
   "metadata": {},
   "source": [
    "|Data Science Tools|\n",
    "|--------|\n",
    "|RStudio|\n",
    "|Apache Spark|\n",
    "|TensorFlow|"
   ]
  },
  {
   "cell_type": "markdown",
   "id": "23b7e562-52c2-4eb9-95bd-25f122b49cd8",
   "metadata": {},
   "source": [
    "### Below are a few examples of evaluating arithmetic expressions in Python"
   ]
  },
  {
   "cell_type": "markdown",
   "id": "9709b0ef-ed81-437c-a549-0b6bfd65f545",
   "metadata": {},
   "source": [
    "<!-- his a simple arithmetic expression to mutiply then add integers -->"
   ]
  },
  {
   "cell_type": "code",
   "execution_count": 1,
   "id": "c13a34a3-f9a2-4ee6-92a9-22edbd7117b4",
   "metadata": {
    "tags": []
   },
   "outputs": [
    {
     "data": {
      "text/plain": [
       "17"
      ]
     },
     "execution_count": 1,
     "metadata": {},
     "output_type": "execute_result"
    }
   ],
   "source": [
    "(3*4)+5"
   ]
  },
  {
   "cell_type": "code",
   "execution_count": 1,
   "id": "8ff2c40a-42e7-42c9-bbc7-c08b8c1e86d0",
   "metadata": {
    "tags": []
   },
   "outputs": [
    {
     "data": {
      "text/plain": [
       "3.3333333333333335"
      ]
     },
     "execution_count": 1,
     "metadata": {},
     "output_type": "execute_result"
    }
   ],
   "source": [
    "200/60"
   ]
  },
  {
   "cell_type": "markdown",
   "id": "325d60b0-49d0-4ec8-a23e-7be7be60fde1",
   "metadata": {},
   "source": [
    "**Objectives:**\n",
    "* List popular languages for Data Science\n",
    "* Some of the commonly used libraries used by Data Scientists\n",
    "* table of Data Science\n",
    "* evaluating arithmetic expressions in Python"
   ]
  },
  {
   "cell_type": "markdown",
   "id": "2f61dd8f-c8be-4c92-9c65-4e1a2cf767a9",
   "metadata": {},
   "source": [
    "## Lakshmi Holla\n",
    "\n",
    "## Niveditha Pandith\n",
    "\n",
    "ABU TAHER MOHAMMED MOINUL HAUQE"
   ]
  },
  {
   "cell_type": "code",
   "execution_count": null,
   "id": "ad7c4a17-a62e-48e5-a950-dcbf1bc7a900",
   "metadata": {},
   "outputs": [],
   "source": []
  }
 ],
 "metadata": {
  "kernelspec": {
   "display_name": "Python",
   "language": "python",
   "name": "conda-env-python-py"
  },
  "language_info": {
   "codemirror_mode": {
    "name": "ipython",
    "version": 3
   },
   "file_extension": ".py",
   "mimetype": "text/x-python",
   "name": "python",
   "nbconvert_exporter": "python",
   "pygments_lexer": "ipython3",
   "version": "3.7.12"
  }
 },
 "nbformat": 4,
 "nbformat_minor": 5
}
